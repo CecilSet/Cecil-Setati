{
 "cells": [
  {
   "cell_type": "code",
   "execution_count": 1,
   "metadata": {},
   "outputs": [],
   "source": [
    "import cv2"
   ]
  },
  {
   "cell_type": "code",
   "execution_count": null,
   "metadata": {},
   "outputs": [],
   "source": [
    "camera = cv2.VideoCapture(0)\n",
    "i = 0\n",
    "while True:\n",
    "    i+=1\n",
    "    return_value, image = camera.read()\n",
    "    cv2.imshow(\"frame\",image)\n",
    "    key = cv2.waitKey(1)\n",
    "    if key == ord('q'):\n",
    "        cv2.imwrite('opencv'+str(i)+'.png', image)\n",
    "                          \n",
    "#showPic = cv2.imwrite(\"filename.jpg\",frame)\n",
    "#print(showPic)\n",
    "# 8. shutdown the camera\n",
    "del(camera)\n",
    "cv2.destroyAllWindows"
   ]
  },
  {
   "cell_type": "code",
   "execution_count": null,
   "metadata": {},
   "outputs": [],
   "source": []
  }
 ],
 "metadata": {
  "kernelspec": {
   "display_name": "Python 3",
   "language": "python",
   "name": "python3"
  },
  "language_info": {
   "codemirror_mode": {
    "name": "ipython",
    "version": 3
   },
   "file_extension": ".py",
   "mimetype": "text/x-python",
   "name": "python",
   "nbconvert_exporter": "python",
   "pygments_lexer": "ipython3",
   "version": "3.7.5"
  }
 },
 "nbformat": 4,
 "nbformat_minor": 4
}
